{
 "cells": [
  {
   "cell_type": "markdown",
   "id": "b18e8f05",
   "metadata": {},
   "source": [
    "## Codingtest-김찬수"
   ]
  },
  {
   "cell_type": "markdown",
   "id": "4a59949b",
   "metadata": {},
   "source": [
    "### 코딩테스트 연습 -> 스택/큐 -> 올바른 괄호"
   ]
  },
  {
   "cell_type": "markdown",
   "id": "3b9ef525",
   "metadata": {},
   "source": [
    "#### 문제 설명\n",
    "괄호가 바르게 짝지어졌다는 것은 '(' 문자로 열렸으면 반드시 짝지어서 ')' 문자로 닫혀야 한다는 뜻입니다. \n",
    "\n",
    "예를 들어\n",
    "- \"()()\" 또는 \"(())()\" 는 올바른 괄호입니다.\n",
    "- \")()(\" 또는 \"(()(\" 는 올바르지 않은 괄호입니다.\n",
    "\n",
    "'(' 또는 ')' 로만 이루어진 문자열 s가 주어졌을 때, 문자열 s가 올바른 괄호이면 true를 return 하고, 올바르지 않은 괄호이면 false를 return 하는 solution 함수를 완성해 주세요.\n",
    "\n",
    "#### 제한사항\n",
    "- 문자열 s의 길이 : 100,000 이하의 자연수.\n",
    "- 문자열 s는 '(' 또는 ')' 로만 이루어져 있습니다."
   ]
  },
  {
   "cell_type": "markdown",
   "id": "f3a2fc28",
   "metadata": {},
   "source": [
    "#### 입출력 예\n",
    "\n",
    "<img src=\"../image/ct0015.png\">"
   ]
  },
  {
   "cell_type": "code",
   "execution_count": 3,
   "id": "51602a43",
   "metadata": {},
   "outputs": [],
   "source": [
    "# 함수 정의 - s 는 문자열이며 함수는 bool타입결과를 반환한다\n",
    "def solution(s: str) -> bool:\n",
    "    # 괄호의 균형(열림과 닫힘)을 세는 변수\n",
    "    count = 0\n",
    "    # 문자열 s를 한 글자씩 순회하면서 검사한다\n",
    "    # c는 현재 위치의 문자\n",
    "    for c in s:\n",
    "        # 여는 괄호 '('를 만나면 count를 증가시킨다\n",
    "        if c == '(':\n",
    "            count += 1\n",
    "        # 닫는 괄호 ')'를 만나면 count를 감소시킨다\n",
    "        elif c == ')':\n",
    "            count -= 1\n",
    "        # 닫는 괄호 ')'가 여는 괄호보다 먼저 나오면 count가 음수가 된다\n",
    "            if count < 0:\n",
    "                return False\n",
    "    # 모든 문자를 검사한 후 count == 0이면 균형이 맞는 괄호 문자열이다(True반환)\n",
    "    # count != 0이면 균형이 맞지 않는 괄호 문자열이다(False반환)\n",
    "    return count == 0\n"
   ]
  },
  {
   "cell_type": "code",
   "execution_count": 4,
   "id": "dd012f3d",
   "metadata": {},
   "outputs": [
    {
     "name": "stdout",
     "output_type": "stream",
     "text": [
      "True\n",
      "True\n",
      "False\n",
      "False\n"
     ]
    }
   ],
   "source": [
    "print(solution(\"()\"))\n",
    "print(solution(\"(())\"))\n",
    "print(solution(\")(\"))\n",
    "print(solution(\"(()\"))"
   ]
  },
  {
   "cell_type": "markdown",
   "id": "f0ed0af9",
   "metadata": {},
   "source": [
    "<img src=\"../image/ct0016.png\">"
   ]
  }
 ],
 "metadata": {
  "kernelspec": {
   "display_name": "3.11.9",
   "language": "python",
   "name": "python3"
  },
  "language_info": {
   "codemirror_mode": {
    "name": "ipython",
    "version": 3
   },
   "file_extension": ".py",
   "mimetype": "text/x-python",
   "name": "python",
   "nbconvert_exporter": "python",
   "pygments_lexer": "ipython3",
   "version": "3.11.9"
  }
 },
 "nbformat": 4,
 "nbformat_minor": 5
}
